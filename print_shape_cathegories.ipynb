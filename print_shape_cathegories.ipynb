{
 "cells": [
  {
   "cell_type": "code",
   "execution_count": 6,
   "id": "initial_id",
   "metadata": {
    "collapsed": true,
    "ExecuteTime": {
     "end_time": "2024-02-18T00:06:59.282714200Z",
     "start_time": "2024-02-18T00:06:59.267017100Z"
    }
   },
   "outputs": [
    {
     "name": "stdout",
     "output_type": "stream",
     "text": [
      "['airplane']\n",
      "100\n",
      "['cabinet']\n",
      "100\n",
      "['car']\n",
      "100\n",
      "['chair']\n",
      "100\n",
      "['lamp']\n",
      "100\n",
      "['sofa']\n",
      "100\n",
      "['table']\n",
      "100\n",
      "['watercraft']\n",
      "100\n"
     ]
    }
   ],
   "source": [
    "import os\n",
    "import numpy as np\n",
    "with open(os.path.join(\"val.list\")) as file:\n",
    "    v = np.array([line.strip().split(\"/\")[0] for line in file])\n",
    "with open(os.path.join(\"cat_names\")) as file:\n",
    "    def f(l):\n",
    "        vs = l.strip().split(\" \")\n",
    "        return vs[0], vs[1:]\n",
    "    names = dict(f(line) for line in file)\n",
    "uni, counts = np.unique(v,return_counts=True)\n",
    "for cat in range(uni.shape[0]):\n",
    "    print(names[uni[cat]])\n",
    "    print(counts[cat])"
   ]
  }
 ],
 "metadata": {
  "kernelspec": {
   "display_name": "Python 3",
   "language": "python",
   "name": "python3"
  },
  "language_info": {
   "codemirror_mode": {
    "name": "ipython",
    "version": 2
   },
   "file_extension": ".py",
   "mimetype": "text/x-python",
   "name": "python",
   "nbconvert_exporter": "python",
   "pygments_lexer": "ipython2",
   "version": "2.7.6"
  }
 },
 "nbformat": 4,
 "nbformat_minor": 5
}
