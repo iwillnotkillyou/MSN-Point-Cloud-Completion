{
 "cells": [
  {
   "cell_type": "code",
   "execution_count": 4,
   "id": "initial_id",
   "metadata": {
    "scrolled": true,
    "ExecuteTime": {
     "end_time": "2024-02-18T01:24:23.296449600Z",
     "start_time": "2024-02-18T01:24:23.279423700Z"
    }
   },
   "outputs": [],
   "source": [
    "import os\n",
    "from mesh_to_point_cloud import *\n",
    "p = \"C:\\\\school\\\\School\\\\3Dfuture\\\\selection\"\n",
    "if False:\n",
    "    outp = \"C:\\\\school\\\\School\\\\3Dfuture\\\\partial\"\n",
    "    targp = \"C:\\\\school\\\\School\\\\3Dfuture\\\\complete\"\n",
    "    for f in os.listdir(p):\n",
    "        def gpbase(p):\n",
    "            return f\"{p}/{f}\"\n",
    "        mesh_to_point_cloud(f\"{p}/{f}/normalized_model.obj\",f\"{outp}/{f}\",f\"{targp}/{f}\")\n",
    "open(\"list3dfuture\",\"w\").writelines([x+ \"\\n\" for x in os.listdir(p)])"
   ]
  }
 ],
 "metadata": {
  "kernelspec": {
   "display_name": "Python 3 (ipykernel)",
   "language": "python",
   "name": "python3"
  },
  "language_info": {
   "codemirror_mode": {
    "name": "ipython",
    "version": 3
   },
   "file_extension": ".py",
   "mimetype": "text/x-python",
   "name": "python",
   "nbconvert_exporter": "python",
   "pygments_lexer": "ipython3",
   "version": "3.11.5"
  }
 },
 "nbformat": 4,
 "nbformat_minor": 5
}
