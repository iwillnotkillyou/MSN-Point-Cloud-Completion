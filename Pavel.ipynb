{
 "cells": [
  {
   "cell_type": "code",
   "execution_count": 35,
   "id": "initial_id",
   "metadata": {
    "collapsed": true,
    "ExecuteTime": {
     "end_time": "2024-01-11T16:00:28.287991800Z",
     "start_time": "2024-01-11T16:00:28.224897300Z"
    }
   },
   "outputs": [
    {
     "name": "stdout",
     "output_type": "stream",
     "text": [
      "torch.Size([10, 10, 3, 1])\n"
     ]
    },
    {
     "data": {
      "text/plain": "torch.Size([10, 3, 10])"
     },
     "execution_count": 35,
     "metadata": {},
     "output_type": "execute_result"
    }
   ],
   "source": [
    "import torch\n",
    "input = torch.randn(10, 3, 10)\n",
    "mat2 = torch.randn(10, 3, 3)\n",
    "input = input.transpose(0, 1).transpose(0,2).unsqueeze(3)\n",
    "print(input.shape)\n",
    "res = torch.matmul(mat2, input)\n",
    "res.squeeze().transpose(0, 2).transpose(0, 1).size()"
   ]
  },
  {
   "cell_type": "code",
   "execution_count": 29,
   "outputs": [
    {
     "data": {
      "text/plain": "torch.Size([10, 12, 4])"
     },
     "execution_count": 29,
     "metadata": {},
     "output_type": "execute_result"
    }
   ],
   "source": [
    "x = torch.randn(10, 12, 3)\n",
    "w = torch.randn(12, 3, 4)\n",
    "out = torch.matmul(x.unsqueeze(2),w).squeeze()\n",
    "out.size()"
   ],
   "metadata": {
    "collapsed": false,
    "ExecuteTime": {
     "end_time": "2024-01-11T15:57:28.245788900Z",
     "start_time": "2024-01-11T15:57:28.214081Z"
    }
   },
   "id": "4c87596a3aef02ab"
  },
  {
   "cell_type": "code",
   "execution_count": 40,
   "outputs": [
    {
     "name": "stdout",
     "output_type": "stream",
     "text": [
      "torch.Size([8, 2500])\n"
     ]
    }
   ],
   "source": [
    "ws = torch.randn([8, 2500, 4096])\n",
    "x = torch.randn([8, 2500, 4096])\n",
    "print((ws*x).sum(2).shape)"
   ],
   "metadata": {
    "collapsed": false,
    "ExecuteTime": {
     "end_time": "2024-01-11T16:48:54.149322900Z",
     "start_time": "2024-01-11T16:48:52.956188700Z"
    }
   },
   "id": "59b7151b0747ecb0"
  }
 ],
 "metadata": {
  "kernelspec": {
   "display_name": "Python 3",
   "language": "python",
   "name": "python3"
  },
  "language_info": {
   "codemirror_mode": {
    "name": "ipython",
    "version": 2
   },
   "file_extension": ".py",
   "mimetype": "text/x-python",
   "name": "python",
   "nbconvert_exporter": "python",
   "pygments_lexer": "ipython2",
   "version": "2.7.6"
  }
 },
 "nbformat": 4,
 "nbformat_minor": 5
}
